{
 "cells": [
  {
   "cell_type": "code",
   "execution_count": 1,
   "metadata": {},
   "outputs": [
    {
     "data": {
      "application/vnd.jupyter.widget-view+json": {
       "model_id": "941a8100aa0640e888ede9e74fb97e63",
       "version_major": 2,
       "version_minor": 0
      },
      "text/plain": [
       "MitoWidget(analysis_data_json='{\"analysisName\": \"id-pquvkbwkch\", \"analysisToReplay\": {\"analysisName\": \"id-efxu…"
      ]
     },
     "metadata": {},
     "output_type": "display_data"
    },
    {
     "name": "stdout",
     "output_type": "stream",
     "text": [
      "Traceback (most recent call last):\n",
      "  File \"change_column_dtype.py\", line 165, in execute\n",
      "    new_column = column.astype('int').astype('float') / 10**9\n",
      "  File \"generic.py\", line 5815, in astype\n",
      "    new_data = self._mgr.astype(dtype=dtype, copy=copy, errors=errors)\n",
      "  File \"managers.py\", line 418, in astype\n",
      "    return self.apply(\"astype\", dtype=dtype, copy=copy, errors=errors)\n",
      "  File \"managers.py\", line 327, in apply\n",
      "    applied = getattr(b, f)(**kwargs)\n",
      "  File \"blocks.py\", line 591, in astype\n",
      "    new_values = astype_array_safe(values, dtype, copy=copy, errors=errors)\n",
      "  File \"cast.py\", line 1309, in astype_array_safe\n",
      "    new_values = astype_array(values, dtype, copy=copy)\n",
      "  File \"cast.py\", line 1242, in astype_array\n",
      "    raise TypeError(msg)\n",
      "TypeError: cannot astype a datetimelike from [datetime64[ns]] to [int32]\n",
      "\n"
     ]
    }
   ],
   "source": [
    "import pandas as pd\n",
    "import mitosheet\n",
    "mitosheet.sheet(analysis_to_replay=\"id-efxussusnx\")"
   ]
  },
  {
   "cell_type": "code",
   "execution_count": null,
   "metadata": {},
   "outputs": [],
   "source": [
    "from mitosheet import *; register_analysis(\"id-efxussusnx\");\n",
    "    \n",
    "# Imported 201908-citibike-tripdata.csv\n",
    "import pandas as pd\n",
    "df_201908_citibike_tripdata = pd.read_csv(r'C:\\Users\\laure\\OneDrive\\Desktop\\Class_folder\\module14\\BikeSharing\\201908-citibike-tripdata.csv\\201908-citibike-tripdata.csv')\n",
    "\n",
    "# Changed tripduration to dtype datetime\n",
    "import pandas as pd\n",
    "df_201908_citibike_tripdata['tripduration'] = pd.to_datetime(df_201908_citibike_tripdata['tripduration'], unit='s', errors='coerce')\n",
    "\n",
    "# Changed starttime to dtype datetime\n",
    "import pandas as pd\n",
    "df_201908_citibike_tripdata['starttime'] = pd.to_datetime(df_201908_citibike_tripdata['starttime'], infer_datetime_format=True, errors='coerce')\n",
    "\n",
    "# Changed stoptime to dtype datetime\n",
    "import pandas as pd\n",
    "df_201908_citibike_tripdata['stoptime'] = pd.to_datetime(df_201908_citibike_tripdata['stoptime'], infer_datetime_format=True, errors='coerce')\n"
   ]
  },
  {
   "cell_type": "code",
   "execution_count": 3,
   "metadata": {},
   "outputs": [],
   "source": [
    "# 1. Create a DataFrame for the 201908-citibike-tripdata data. \n"
   ]
  },
  {
   "cell_type": "code",
   "execution_count": 4,
   "metadata": {},
   "outputs": [],
   "source": [
    "# 2. Check the datatypes of your columns. \n"
   ]
  },
  {
   "cell_type": "code",
   "execution_count": 5,
   "metadata": {},
   "outputs": [],
   "source": [
    "# 3. Convert the 'tripduration' column to datetime datatype.\n"
   ]
  },
  {
   "cell_type": "code",
   "execution_count": 6,
   "metadata": {},
   "outputs": [],
   "source": [
    "# 4. Check the datatypes of your columns. \n"
   ]
  },
  {
   "cell_type": "code",
   "execution_count": 7,
   "metadata": {},
   "outputs": [],
   "source": [
    "# 5. Export the Dataframe as a new CSV file without the index.\n"
   ]
  },
  {
   "cell_type": "code",
   "execution_count": null,
   "metadata": {},
   "outputs": [],
   "source": []
  }
 ],
 "metadata": {
  "kernelspec": {
   "display_name": "PythonData",
   "language": "python",
   "name": "pythondata"
  },
  "language_info": {
   "codemirror_mode": {
    "name": "ipython",
    "version": 3
   },
   "file_extension": ".py",
   "mimetype": "text/x-python",
   "name": "python",
   "nbconvert_exporter": "python",
   "pygments_lexer": "ipython3",
   "version": "3.7.11"
  }
 },
 "nbformat": 4,
 "nbformat_minor": 4
}
